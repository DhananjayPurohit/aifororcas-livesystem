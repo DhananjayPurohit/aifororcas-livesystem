{
 "cells": [
  {
   "cell_type": "code",
   "execution_count": 19,
   "metadata": {},
   "outputs": [],
   "source": [
    "import os, sys, glob, json, contextlib\n",
    "import librosa\n",
    "import torch\n",
    "import pandas as pd\n",
    "import numpy as np\n",
    "import seaborn as sns\n",
    "import matplotlib.pyplot as plt\n",
    "from pathlib import Path\n",
    "from torch.utils.data import DataLoader\n",
    "\n",
    "# deal with a known bug in sklearn that pollutes stdout: https://stackoverflow.com/questions/52596204/the-imp-module-is-deprecated\n",
    "with contextlib.redirect_stderr(None):\n",
    "    from sklearn import metrics"
   ]
  },
  {
   "cell_type": "code",
   "execution_count": 3,
   "metadata": {},
   "outputs": [],
   "source": [
    "%load_ext autoreload\n",
    "%autoreload 1"
   ]
  },
  {
   "cell_type": "code",
   "execution_count": 24,
   "metadata": {},
   "outputs": [],
   "source": [
    "%aimport dataloader\n",
    "%aimport train\n",
    "%aimport model\n",
    "from IPython.display import display, Audio"
   ]
  },
  {
   "cell_type": "code",
   "execution_count": 49,
   "metadata": {
    "scrolled": true
   },
   "outputs": [
    {
     "name": "stdout",
     "output_type": "stream",
     "text": [
      "Loaded mean and invstd from: ../train_data/mean.txt ../train_data/invstd.txt\n",
      "Loading file: 64031.wav\n",
      "Loading file: 97752001.wav\n",
      "Loading file: 97752002.wav\n",
      "Loading file: 97752003.wav\n",
      "Loading file: 97752004.wav\n",
      "Loading file: 97752005.wav\n",
      "Loading file: 97752006.wav\n",
      "Loading file: 97752007.wav\n",
      "Loading file: 97752008.wav\n",
      "Loading file: 97752009.wav\n",
      "Loading file: 9775200A.wav\n",
      "Loading file: 9775200B.wav\n",
      "Loading file: 9775200C.wav\n",
      "Loading file: 9775200D.wav\n",
      "Loading file: 9775200E.wav\n",
      "Loading file: 9775200F.wav\n",
      "Loading file: 9775200G.wav\n",
      "Loading file: 9775200H.wav\n",
      "Loading file: 9775200I.wav\n",
      "Loading file: 9775200J.wav\n",
      "Loading file: 9775200K.wav\n",
      "Loading file: 9775200L.wav\n",
      "Loading file: 9775200M.wav\n",
      "Loading file: 9775200N.wav\n",
      "Loading file: 9775200O.wav\n",
      "Loading file: 9775200P.wav\n",
      "Loading file: 9775200Q.wav\n",
      "Loading file: 9775200R.wav\n",
      "Loading file: 9775200S.wav\n",
      "Loading file: 9775200T.wav\n",
      "Loading file: 9775200U.wav\n",
      "Loading file: 9775200V.wav\n",
      "Loading file: 9775200W.wav\n",
      "Loading file: 9775200X.wav\n",
      "Loading file: 9775200Y.wav\n",
      "Loading file: 9775200Z.wav\n",
      "Loading file: 97752010.wav\n",
      "Loading file: 97752011.wav\n",
      "Loading file: 97752012.wav\n",
      "Loading file: 97752013.wav\n",
      "Loading file: 97752014.wav\n",
      "Loading file: 97752015.wav\n",
      "Loading file: 97752016.wav\n",
      "Loading file: 97752017.wav\n",
      "Loading file: 97762001.wav\n",
      "Loading file: 97762002.wav\n",
      "Loading file: 97762003.wav\n",
      "Loading file: 97762004.wav\n",
      "Loading file: 97762005.wav\n",
      "Loading file: 97762006.wav\n",
      "Loading file: 97762007.wav\n",
      "Loading file: 97762008.wav\n",
      "Loading file: 97762009.wav\n",
      "Loading file: 9776200A.wav\n",
      "Loading file: 9776200B.wav\n",
      "Loading file: 9776200C.wav\n",
      "Loading file: 97773001.wav\n",
      "Loading file: 97773002.wav\n",
      "Loading file: 97773003.wav\n",
      "Loading file: 97773004.wav\n",
      "Loading file: 97773005.wav\n",
      "Loading file: 97773006.wav\n",
      "Loading file: 97773007.wav\n",
      "Loading file: 97773008.wav\n",
      "Loading file: 97773009.wav\n",
      "Loading file: 9777300A.wav\n",
      "Loading file: 9777300B.wav\n",
      "Loading file: 9777300C.wav\n",
      "Loading file: 9777300D.wav\n",
      "Loading file: 9777300E.wav\n",
      "Loading file: 9777300F.wav\n",
      "Loading file: 9777300G.wav\n",
      "Loading file: 9777300H.wav\n",
      "Loading file: 9777300I.wav\n",
      "Loading file: 9777300J.wav\n",
      "Loading file: 9777300K.wav\n",
      "Loading file: 9777300L.wav\n",
      "Loading file: 9777300M.wav\n",
      "Loading file: 9777300N.wav\n",
      "Loading file: 9777300O.wav\n",
      "Loading file: 9777300P.wav\n",
      "Loading file: 9777300Q.wav\n",
      "Loading file: 9777300R.wav\n",
      "Total dataset size: 387\n"
     ]
    },
    {
     "data": {
      "text/plain": [
       "<matplotlib.axes._subplots.AxesSubplot at 0x18d76e562e8>"
      ]
     },
     "execution_count": 49,
     "metadata": {},
     "output_type": "execute_result"
    },
    {
     "data": {
      "image/png": "[encoded data removed]",
      "text/plain": [
       "<Figure size 432x288 with 1 Axes>"
      ]
     },
     "metadata": {
      "needs_background": "light"
     },
     "output_type": "display_data"
    }
   ],
   "source": [
    "dev_dataset = dataloader.AudioFileDataset(\n",
    "    \"../train_data/wav\",\"../train_data/dev.tsv\",2,2,mean=\"../train_data/mean.txt\",invstd=\"../train_data/invstd.txt\"\n",
    ")\n",
    "dev_dataloader = DataLoader(dev_dataset, batch_size=1, shuffle=False, drop_last=False)\n",
    "print(\"Total dataset size:\",len(wav_dataset))\n",
    "labels = [l[2] for l in wav_dataset.windows]\n",
    "sns.countplot(labels)"
   ]
  },
  {
   "cell_type": "code",
   "execution_count": 56,
   "metadata": {},
   "outputs": [],
   "source": [
    "net, curr_epoch = model.get_model_or_checkpoint(\"ResNet_slim\",\"../../scratch/\",1,epoch=4)\n",
    "net = net.eval()"
   ]
  },
  {
   "cell_type": "code",
   "execution_count": 57,
   "metadata": {},
   "outputs": [],
   "source": [
    "preds = []\n",
    "targets = []\n",
    "for i, (data,target) in enumerate(dev_dataloader):\n",
    "    data, target = data.unsqueeze(1).float().cuda(), target.cuda() \n",
    "    pred = net(data)\n",
    "    preds.append(torch.argmax(pred, dim=1).cpu().item())\n",
    "    targets.append(target.cpu().item())"
   ]
  },
  {
   "cell_type": "code",
   "execution_count": 58,
   "metadata": {},
   "outputs": [
    {
     "name": "stdout",
     "output_type": "stream",
     "text": [
      "              precision    recall  f1-score   support\n",
      "\n",
      "           0       0.00      0.00      0.00       124\n",
      "           1       0.68      1.00      0.81       263\n",
      "\n",
      "   micro avg       0.68      0.68      0.68       387\n",
      "   macro avg       0.34      0.50      0.40       387\n",
      "weighted avg       0.46      0.68      0.55       387\n",
      "\n",
      "[[  0 124]\n",
      " [  0 263]]\n"
     ]
    },
    {
     "name": "stderr",
     "output_type": "stream",
     "text": [
      "C:\\Users\\AKMAHAJA\\AppData\\Local\\Continuum\\anaconda3\\envs\\p36tfgpu\\lib\\site-packages\\sklearn\\metrics\\classification.py:1143: UndefinedMetricWarning: Precision and F-score are ill-defined and being set to 0.0 in labels with no predicted samples.\n",
      "  'precision', 'predicted', average, warn_for)\n",
      "C:\\Users\\AKMAHAJA\\AppData\\Local\\Continuum\\anaconda3\\envs\\p36tfgpu\\lib\\site-packages\\sklearn\\metrics\\classification.py:1143: UndefinedMetricWarning: Precision and F-score are ill-defined and being set to 0.0 in labels with no predicted samples.\n",
      "  'precision', 'predicted', average, warn_for)\n",
      "C:\\Users\\AKMAHAJA\\AppData\\Local\\Continuum\\anaconda3\\envs\\p36tfgpu\\lib\\site-packages\\sklearn\\metrics\\classification.py:1143: UndefinedMetricWarning: Precision and F-score are ill-defined and being set to 0.0 in labels with no predicted samples.\n",
      "  'precision', 'predicted', average, warn_for)\n"
     ]
    }
   ],
   "source": [
    "print(metrics.classification_report(targets,preds))\n",
    "print(metrics.confusion_matrix(targets,preds))"
   ]
  },
  {
   "cell_type": "code",
   "execution_count": null,
   "metadata": {},
   "outputs": [],
   "source": []
  }
 ],
 "metadata": {
  "kernelspec": {
   "display_name": "Python (p36tfgpu)",
   "language": "python",
   "name": "p36tfgpu"
  },
  "language_info": {
   "codemirror_mode": {
    "name": "ipython",
    "version": 3
   },
   "file_extension": ".py",
   "mimetype": "text/x-python",
   "name": "python",
   "nbconvert_exporter": "python",
   "pygments_lexer": "ipython3",
   "version": "3.6.6"
  }
 },
 "nbformat": 4,
 "nbformat_minor": 2
}

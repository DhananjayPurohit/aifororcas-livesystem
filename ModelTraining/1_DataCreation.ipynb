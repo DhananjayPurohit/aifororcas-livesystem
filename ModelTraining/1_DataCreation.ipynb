{
 "cells": [
  {
   "cell_type": "markdown",
   "metadata": {
    "heading_collapsed": true
   },
   "source": [
    "# Boiler Plate"
   ]
  },
  {
   "cell_type": "markdown",
   "metadata": {
    "ExecuteTime": {
     "end_time": "2020-07-29T23:05:34.797350Z",
     "start_time": "2020-07-29T23:05:34.792218Z"
    },
    "heading_collapsed": true,
    "hidden": true
   },
   "source": [
    "## Importing libraries"
   ]
  },
  {
   "cell_type": "code",
   "execution_count": 3,
   "metadata": {
    "ExecuteTime": {
     "end_time": "2020-07-30T23:15:34.625559Z",
     "start_time": "2020-07-30T23:15:34.614442Z"
    },
    "hidden": true
   },
   "outputs": [],
   "source": [
    "#from utils import *\n",
    "import os\n",
    "import numpy as np\n",
    "import pandas as pd\n",
    "import gc\n",
    "from tqdm.notebook import tqdm_notebook\n",
    "from pydub import AudioSegment\n",
    "import wave\n",
    "import librosa\n",
    "import matplotlib.pyplot as plt\n",
    "%matplotlib inline"
   ]
  },
  {
   "cell_type": "markdown",
   "metadata": {
    "heading_collapsed": true,
    "hidden": true
   },
   "source": [
    "## Helper Functions"
   ]
  },
  {
   "cell_type": "code",
   "execution_count": 4,
   "metadata": {
    "ExecuteTime": {
     "end_time": "2020-07-30T23:15:36.736639Z",
     "start_time": "2020-07-30T23:15:36.705109Z"
    },
    "code_folding": [],
    "hidden": true
   },
   "outputs": [],
   "source": [
    "def create_possible_timeframe(max_time, space):\n",
    "    '''\n",
    "    Return a list of [startTime, endTime] proposal for negative sampling\n",
    "    '''\n",
    "    possible_time_frame = []\n",
    "    for i in np.arange(0, max_time.astype(int) - 2, space):\n",
    "        possible_time_frame.append([i, i + 2 + 3 * np.random.random()])\n",
    "    return possible_time_frame\n",
    "\n",
    "\n",
    "def overlap(x, y):\n",
    "    '''\n",
    "    A function to returning true or false indicating overlap given \n",
    "    a time duration list as compared to other list\n",
    "    '''\n",
    "    if (y[0] < x[1] < y[1]) or (y[0] < x[0] < y[1]) or (\n",
    "            x[0] < y[1] < x[1]) or (x[0] <= y[0] < x[1]):\n",
    "        return True\n",
    "    elif x == y:\n",
    "        return True\n",
    "    else:\n",
    "        return False\n",
    "\n",
    "\n",
    "def not_overlap_list(x, y_list):\n",
    "    '''\n",
    "    Given a possible time proposal return True/False indicating if there is any overlap\n",
    "    '''\n",
    "    return sum([overlap(x, y) for y in y_list]) == 0\n",
    "\n",
    "\n",
    "def not_overlap_list_x_list(x_list, y_list):\n",
    "    '''\n",
    "    Function to returning a list of x_list with no overlaps from y_list\n",
    "    '''\n",
    "    return list(\n",
    "        pd.Series(x_list)[[not_overlap_list(x, y_list) for x in x_list]])\n",
    "\n",
    "\n",
    "def get_wave_file(wav_file):\n",
    "    '''\n",
    "    Function to load a wav file\n",
    "    '''\n",
    "    return AudioSegment.from_wav(wav_file)\n",
    "\n",
    "\n",
    "def export_wave_file(audio, begin, end, dest):\n",
    "    '''\n",
    "    Function to extract a smaller wav file based start and end duration information\n",
    "    '''\n",
    "    sub_audio = audio[begin * 1000:end * 1000]\n",
    "    sub_audio.export(dest, format=\"wav\")\n",
    "\n",
    "\n",
    "def extract_segments(audioPath, sampleDict, destnPath, suffix):\n",
    "    '''\n",
    "    Function to exctact segments given a audio path folder and proposal segments\n",
    "    '''\n",
    "    # Listing the local audio files\n",
    "    local_audio_files = audioPath\n",
    "    for wav_file in tqdm_notebook(sampleDict.keys(), desc='outerloop'):\n",
    "        audio_file = get_wave_file(local_audio_files + wav_file)\n",
    "        for begin_time, end_time in sampleDict[wav_file]:\n",
    "            output_file_name = wav_file.lower().replace(\n",
    "                '.wav', '') + '_' + str(begin_time) + '_' + str(\n",
    "                    end_time) + suffix + '.wav'\n",
    "            output_file_path = destnPath + output_file_name\n",
    "            export_wave_file(audio_file, begin_time, end_time,\n",
    "                             output_file_path)"
   ]
  },
  {
   "cell_type": "markdown",
   "metadata": {
    "heading_collapsed": true
   },
   "source": [
    "# Training"
   ]
  },
  {
   "cell_type": "markdown",
   "metadata": {
    "heading_collapsed": true,
    "hidden": true
   },
   "source": [
    "##  Reading Data from WHOIs"
   ]
  },
  {
   "cell_type": "markdown",
   "metadata": {
    "hidden": true
   },
   "source": [
    "**Reading the metadata from WHOIS dataset and creating positive time proposals for audio segmentation**"
   ]
  },
  {
   "cell_type": "code",
   "execution_count": 5,
   "metadata": {
    "ExecuteTime": {
     "end_time": "2020-07-30T23:15:57.101615Z",
     "start_time": "2020-07-30T23:15:56.706865Z"
    },
    "hidden": true
   },
   "outputs": [
    {
     "data": {
      "text/html": [
       "<div>\n",
       "<style scoped>\n",
       "    .dataframe tbody tr th:only-of-type {\n",
       "        vertical-align: middle;\n",
       "    }\n",
       "\n",
       "    .dataframe tbody tr th {\n",
       "        vertical-align: top;\n",
       "    }\n",
       "\n",
       "    .dataframe thead th {\n",
       "        text-align: right;\n",
       "    }\n",
       "</style>\n",
       "<table border=\"1\" class=\"dataframe\">\n",
       "  <thead>\n",
       "    <tr style=\"text-align: right;\">\n",
       "      <th></th>\n",
       "      <th>wav_filename</th>\n",
       "      <th>start_time_s</th>\n",
       "      <th>duration_s</th>\n",
       "      <th>location</th>\n",
       "      <th>date</th>\n",
       "      <th>master_wav</th>\n",
       "      <th>begin_time</th>\n",
       "      <th>end_time</th>\n",
       "      <th>time_frame</th>\n",
       "    </tr>\n",
       "  </thead>\n",
       "  <tbody>\n",
       "    <tr>\n",
       "      <td>0</td>\n",
       "      <td>60026.wav</td>\n",
       "      <td>1.000</td>\n",
       "      <td>1.700</td>\n",
       "      <td>80 mi. south of Martha's Vineyard, Massachusetts</td>\n",
       "      <td>21-Dec-1960</td>\n",
       "      <td>60026</td>\n",
       "      <td>1.0</td>\n",
       "      <td>3.0</td>\n",
       "      <td>[1.0, 3.0]</td>\n",
       "    </tr>\n",
       "    <tr>\n",
       "      <td>1</td>\n",
       "      <td>60026.wav</td>\n",
       "      <td>8.183</td>\n",
       "      <td>4.141</td>\n",
       "      <td>80 mi. south of Martha's Vineyard, Massachusetts</td>\n",
       "      <td>21-Dec-1960</td>\n",
       "      <td>60026</td>\n",
       "      <td>8.0</td>\n",
       "      <td>13.0</td>\n",
       "      <td>[8.0, 13.0]</td>\n",
       "    </tr>\n",
       "    <tr>\n",
       "      <td>2</td>\n",
       "      <td>60026.wav</td>\n",
       "      <td>12.004</td>\n",
       "      <td>5.981</td>\n",
       "      <td>80 mi. south of Martha's Vineyard, Massachusetts</td>\n",
       "      <td>21-Dec-1960</td>\n",
       "      <td>60026</td>\n",
       "      <td>12.0</td>\n",
       "      <td>18.0</td>\n",
       "      <td>[12.0, 18.0]</td>\n",
       "    </tr>\n",
       "    <tr>\n",
       "      <td>3</td>\n",
       "      <td>60026.wav</td>\n",
       "      <td>12.883</td>\n",
       "      <td>1.404</td>\n",
       "      <td>80 mi. south of Martha's Vineyard, Massachusetts</td>\n",
       "      <td>21-Dec-1960</td>\n",
       "      <td>60026</td>\n",
       "      <td>12.0</td>\n",
       "      <td>15.0</td>\n",
       "      <td>[12.0, 15.0]</td>\n",
       "    </tr>\n",
       "    <tr>\n",
       "      <td>4</td>\n",
       "      <td>60026.wav</td>\n",
       "      <td>18.251</td>\n",
       "      <td>2.789</td>\n",
       "      <td>80 mi. south of Martha's Vineyard, Massachusetts</td>\n",
       "      <td>21-Dec-1960</td>\n",
       "      <td>60026</td>\n",
       "      <td>18.0</td>\n",
       "      <td>22.0</td>\n",
       "      <td>[18.0, 22.0]</td>\n",
       "    </tr>\n",
       "  </tbody>\n",
       "</table>\n",
       "</div>"
      ],
      "text/plain": [
       "  wav_filename  start_time_s  duration_s  \\\n",
       "0    60026.wav         1.000       1.700   \n",
       "1    60026.wav         8.183       4.141   \n",
       "2    60026.wav        12.004       5.981   \n",
       "3    60026.wav        12.883       1.404   \n",
       "4    60026.wav        18.251       2.789   \n",
       "\n",
       "                                           location         date  master_wav  \\\n",
       "0  80 mi. south of Martha's Vineyard, Massachusetts  21-Dec-1960       60026   \n",
       "1  80 mi. south of Martha's Vineyard, Massachusetts  21-Dec-1960       60026   \n",
       "2  80 mi. south of Martha's Vineyard, Massachusetts  21-Dec-1960       60026   \n",
       "3  80 mi. south of Martha's Vineyard, Massachusetts  21-Dec-1960       60026   \n",
       "4  80 mi. south of Martha's Vineyard, Massachusetts  21-Dec-1960       60026   \n",
       "\n",
       "   begin_time  end_time    time_frame  \n",
       "0         1.0       3.0    [1.0, 3.0]  \n",
       "1         8.0      13.0   [8.0, 13.0]  \n",
       "2        12.0      18.0  [12.0, 18.0]  \n",
       "3        12.0      15.0  [12.0, 15.0]  \n",
       "4        18.0      22.0  [18.0, 22.0]  "
      ]
     },
     "execution_count": 5,
     "metadata": {},
     "output_type": "execute_result"
    }
   ],
   "source": [
    "df_ts = pd.read_csv('./data/train/train_data_09222019/train.tsv', sep='\\t')\n",
    "df_ts = df_ts.loc[df_ts.duration_s > 1,:].reset_index(drop=True)\n",
    "df_ts['begin_time'] = np.floor(df_ts['start_time_s'])\n",
    "df_ts['end_time'] = np.ceil(df_ts.start_time_s + df_ts.duration_s)\n",
    "df_ts['time_frame'] = df_ts.apply(lambda row : [row['begin_time'],row['end_time']],axis=1)\n",
    "df_timeframe = df_ts.groupby(['wav_filename'])['time_frame'].apply(list)\n",
    "df_timeframe_max = df_ts.groupby(['wav_filename'])['end_time'].max()\n",
    "df_ts.head()"
   ]
  },
  {
   "cell_type": "markdown",
   "metadata": {
    "hidden": true
   },
   "source": [
    "**Creating a dictionary of negative sample time proposals for noise file creation**"
   ]
  },
  {
   "cell_type": "code",
   "execution_count": 8,
   "metadata": {
    "ExecuteTime": {
     "end_time": "2020-07-30T23:17:46.148700Z",
     "start_time": "2020-07-30T23:17:40.121794Z"
    },
    "hidden": true
   },
   "outputs": [],
   "source": [
    "negative_sample_dict = {}\n",
    "for idx in df_timeframe.index:\n",
    "    negative_sample_dict[idx] = not_overlap_list_x_list(\n",
    "        create_possible_timeframe(df_timeframe_max[idx],1), \n",
    "        df_timeframe[idx]\n",
    "    )"
   ]
  },
  {
   "cell_type": "code",
   "execution_count": 9,
   "metadata": {
    "ExecuteTime": {
     "end_time": "2020-07-30T23:17:46.158131Z",
     "start_time": "2020-07-30T23:17:46.151628Z"
    },
    "hidden": true
   },
   "outputs": [
    {
     "data": {
      "text/plain": [
       "3992"
      ]
     },
     "execution_count": 9,
     "metadata": {},
     "output_type": "execute_result"
    }
   ],
   "source": [
    "a = 0\n",
    "for key in negative_sample_dict.keys(): a+=len(negative_sample_dict[key])\n",
    "a"
   ]
  },
  {
   "cell_type": "markdown",
   "metadata": {
    "hidden": true
   },
   "source": [
    "**Extracting the negative sample wav files and putting it in the input negative sample data folder for ML modeling**"
   ]
  },
  {
   "cell_type": "code",
   "execution_count": null,
   "metadata": {
    "ExecuteTime": {
     "end_time": "2020-07-29T18:22:54.151216Z",
     "start_time": "2020-07-29T18:19:13.036830Z"
    },
    "hidden": true
   },
   "outputs": [],
   "source": [
    "extract_segments(\n",
    "    './data/train/train_data_09222019/wav/', \n",
    "    negative_sample_dict, \n",
    "    './data/train/mldata/all/negative/',\n",
    "    \"_Noise\"\n",
    ")"
   ]
  },
  {
   "cell_type": "markdown",
   "metadata": {
    "ExecuteTime": {
     "end_time": "2020-07-30T23:17:34.364321Z",
     "start_time": "2020-07-30T23:17:34.356340Z"
    },
    "hidden": true
   },
   "source": [
    "**Creating a dictionary of positive sample time proposals for noise file creation**"
   ]
  },
  {
   "cell_type": "code",
   "execution_count": 10,
   "metadata": {
    "ExecuteTime": {
     "end_time": "2020-07-30T23:17:46.238942Z",
     "start_time": "2020-07-30T23:17:46.162148Z"
    },
    "hidden": true
   },
   "outputs": [],
   "source": [
    "positive_sample_dict = {}\n",
    "for idx, key in enumerate(df_timeframe.index):\n",
    "    positive_sample_dict[key] = df_timeframe[idx]"
   ]
  },
  {
   "cell_type": "code",
   "execution_count": 11,
   "metadata": {
    "ExecuteTime": {
     "end_time": "2020-07-30T23:17:46.251907Z",
     "start_time": "2020-07-30T23:17:46.242931Z"
    },
    "hidden": true
   },
   "outputs": [
    {
     "data": {
      "text/plain": [
       "2635"
      ]
     },
     "execution_count": 11,
     "metadata": {},
     "output_type": "execute_result"
    }
   ],
   "source": [
    "a = 0\n",
    "for key in positive_sample_dict.keys(): a+=len(positive_sample_dict[key])\n",
    "a"
   ]
  },
  {
   "cell_type": "markdown",
   "metadata": {
    "ExecuteTime": {
     "end_time": "2020-07-30T23:20:32.342217Z",
     "start_time": "2020-07-30T23:20:32.333243Z"
    },
    "hidden": true
   },
   "source": [
    "**Extracting the positive sample wav files and putting it in the input positive sample data folder for ML modeling**"
   ]
  },
  {
   "cell_type": "code",
   "execution_count": null,
   "metadata": {
    "ExecuteTime": {
     "end_time": "2020-07-29T18:19:13.034834Z",
     "start_time": "2020-07-29T18:15:07.540271Z"
    },
    "hidden": true
   },
   "outputs": [],
   "source": [
    "extract_segments(\n",
    "    './data/train/train_data_09222019/wav/', \n",
    "    positive_sample_dict, \n",
    "    './data/train/mldata/all/positive/',\n",
    "    \"_call\"\n",
    ")"
   ]
  },
  {
   "cell_type": "markdown",
   "metadata": {
    "heading_collapsed": true,
    "hidden": true
   },
   "source": [
    "## Reading Podcast Round 2"
   ]
  },
  {
   "cell_type": "markdown",
   "metadata": {
    "ExecuteTime": {
     "end_time": "2020-07-30T23:20:56.784431Z",
     "start_time": "2020-07-30T23:20:56.777450Z"
    },
    "hidden": true
   },
   "source": [
    "**Reading the metadata from Round 2 dataset and creating positive time proposals for audio segmentation**"
   ]
  },
  {
   "cell_type": "code",
   "execution_count": 15,
   "metadata": {
    "ExecuteTime": {
     "end_time": "2020-07-30T23:23:51.217414Z",
     "start_time": "2020-07-30T23:23:51.143977Z"
    },
    "hidden": true
   },
   "outputs": [],
   "source": [
    "df_ts = pd.read_csv('./data/train/Round2_OS_07_05/train.tsv', sep='\\t')\n",
    "df_ts = df_ts.loc[df_ts.duration_s > 1,:].reset_index(drop=True)\n",
    "df_ts['begin_time'] = np.floor(df_ts['start_time_s'])\n",
    "df_ts['end_time'] = np.ceil(df_ts.start_time_s + df_ts.duration_s)\n",
    "df_ts['time_frame'] = df_ts.apply(lambda row : [row['begin_time'],row['end_time']],axis=1)\n",
    "df_timeframe = df_ts.groupby(['wav_filename'])['time_frame'].apply(list)\n",
    "df_timeframe_max = df_ts.groupby(['wav_filename'])['end_time'].max()"
   ]
  },
  {
   "cell_type": "markdown",
   "metadata": {
    "ExecuteTime": {
     "end_time": "2020-07-30T23:21:45.326853Z",
     "start_time": "2020-07-30T23:21:45.297344Z"
    },
    "hidden": true
   },
   "source": [
    "**Creating a dictionary of positive sample time proposals for noise file creation**"
   ]
  },
  {
   "cell_type": "code",
   "execution_count": 16,
   "metadata": {
    "ExecuteTime": {
     "end_time": "2020-07-30T23:23:53.377685Z",
     "start_time": "2020-07-30T23:23:53.367772Z"
    },
    "hidden": true
   },
   "outputs": [],
   "source": [
    "positive_sample_dict = {}\n",
    "for idx, key in enumerate(df_timeframe.index):\n",
    "    positive_sample_dict[key] = df_timeframe[idx]"
   ]
  },
  {
   "cell_type": "code",
   "execution_count": 17,
   "metadata": {
    "ExecuteTime": {
     "end_time": "2020-07-30T23:23:55.245706Z",
     "start_time": "2020-07-30T23:23:55.235732Z"
    },
    "hidden": true
   },
   "outputs": [
    {
     "data": {
      "text/plain": [
       "341"
      ]
     },
     "execution_count": 17,
     "metadata": {},
     "output_type": "execute_result"
    }
   ],
   "source": [
    "a = 0\n",
    "for key in positive_sample_dict.keys(): a+=len(positive_sample_dict[key])\n",
    "a"
   ]
  },
  {
   "cell_type": "markdown",
   "metadata": {
    "hidden": true
   },
   "source": [
    "**Extracting the positive sample wav files and putting it in the input positive sample data folder for ML modeling**"
   ]
  },
  {
   "cell_type": "code",
   "execution_count": null,
   "metadata": {
    "ExecuteTime": {
     "end_time": "2020-07-29T18:23:09.528140Z",
     "start_time": "2020-07-29T18:22:54.697734Z"
    },
    "hidden": true
   },
   "outputs": [],
   "source": [
    "extract_segments(\n",
    "    './data/train/Round2_OS_07_05/wav/', \n",
    "    positive_sample_dict, \n",
    "    './data/train/mldata/all/positive/',\n",
    "    \"_call\"\n",
    ")"
   ]
  },
  {
   "cell_type": "markdown",
   "metadata": {
    "hidden": true
   },
   "source": [
    "**Creating a dictionary of negative sample time proposals for noise file creation**"
   ]
  },
  {
   "cell_type": "code",
   "execution_count": 19,
   "metadata": {
    "ExecuteTime": {
     "end_time": "2020-07-30T23:25:19.644631Z",
     "start_time": "2020-07-30T23:25:19.391184Z"
    },
    "hidden": true
   },
   "outputs": [],
   "source": [
    "negative_sample_dict = {}\n",
    "for idx in df_timeframe.index:\n",
    "    negative_sample_dict[idx] = not_overlap_list_x_list(\n",
    "        create_possible_timeframe(df_timeframe_max[idx],1), \n",
    "        df_timeframe[idx]\n",
    "    )"
   ]
  },
  {
   "cell_type": "code",
   "execution_count": 20,
   "metadata": {
    "ExecuteTime": {
     "end_time": "2020-07-30T23:25:20.424592Z",
     "start_time": "2020-07-30T23:25:20.414089Z"
    },
    "hidden": true
   },
   "outputs": [
    {
     "data": {
      "text/plain": [
       "1195"
      ]
     },
     "execution_count": 20,
     "metadata": {},
     "output_type": "execute_result"
    }
   ],
   "source": [
    "a = 0\n",
    "for key in negative_sample_dict.keys(): a+=len(negative_sample_dict[key])\n",
    "a"
   ]
  },
  {
   "cell_type": "markdown",
   "metadata": {
    "hidden": true
   },
   "source": [
    "**Extracting the negative sample wav files and putting it in the input negative sample data folder for ML modeling**"
   ]
  },
  {
   "cell_type": "code",
   "execution_count": null,
   "metadata": {
    "ExecuteTime": {
     "end_time": "2020-07-29T18:23:24.904860Z",
     "start_time": "2020-07-29T18:23:09.532137Z"
    },
    "hidden": true
   },
   "outputs": [],
   "source": [
    "extract_segments(\n",
    "    './data/train/Round2_OS_07_05/wav/', \n",
    "    negative_sample_dict, \n",
    "    './data/train/mldata/all/negative/',\n",
    "    \"_call\"\n",
    ")"
   ]
  },
  {
   "cell_type": "markdown",
   "metadata": {
    "heading_collapsed": true,
    "hidden": true
   },
   "source": [
    "## Reading Podcast Round 3"
   ]
  },
  {
   "cell_type": "markdown",
   "metadata": {
    "hidden": true
   },
   "source": [
    "**Reading the metadata from Round 3 dataset and creating positive time proposals for audio segmentation**"
   ]
  },
  {
   "cell_type": "code",
   "execution_count": 21,
   "metadata": {
    "ExecuteTime": {
     "end_time": "2020-07-30T23:25:43.949139Z",
     "start_time": "2020-07-30T23:25:43.847144Z"
    },
    "hidden": true
   },
   "outputs": [],
   "source": [
    "df_ts = pd.read_csv('./data/train/Round3_OS_09_27_2017/train.tsv', sep='\\t')\n",
    "df_ts = df_ts.loc[df_ts.duration_s > 1,:].reset_index(drop=True)\n",
    "df_ts['begin_time'] = np.floor(df_ts['start_time_s'])\n",
    "df_ts['end_time'] = np.ceil(df_ts.start_time_s + df_ts.duration_s)\n",
    "df_ts['time_frame'] = df_ts.apply(lambda row : [row['begin_time'],row['end_time']],axis=1)\n",
    "df_timeframe = df_ts.groupby(['wav_filename'])['time_frame'].apply(list)\n",
    "df_timeframe_max = df_ts.groupby(['wav_filename'])['end_time'].max()"
   ]
  },
  {
   "cell_type": "code",
   "execution_count": 20,
   "metadata": {
    "ExecuteTime": {
     "end_time": "2020-07-29T18:23:25.025530Z",
     "start_time": "2020-07-29T18:23:24.994683Z"
    },
    "hidden": true
   },
   "outputs": [
    {
     "data": {
      "text/html": [
       "<div>\n",
       "<style scoped>\n",
       "    .dataframe tbody tr th:only-of-type {\n",
       "        vertical-align: middle;\n",
       "    }\n",
       "\n",
       "    .dataframe tbody tr th {\n",
       "        vertical-align: top;\n",
       "    }\n",
       "\n",
       "    .dataframe thead th {\n",
       "        text-align: right;\n",
       "    }\n",
       "</style>\n",
       "<table border=\"1\" class=\"dataframe\">\n",
       "  <thead>\n",
       "    <tr style=\"text-align: right;\">\n",
       "      <th></th>\n",
       "      <th>wav_filename</th>\n",
       "      <th>start_time_s</th>\n",
       "      <th>duration_s</th>\n",
       "      <th>location</th>\n",
       "      <th>date</th>\n",
       "      <th>data_source</th>\n",
       "      <th>data_source_id</th>\n",
       "      <th>begin_time</th>\n",
       "      <th>end_time</th>\n",
       "      <th>time_frame</th>\n",
       "    </tr>\n",
       "  </thead>\n",
       "  <tbody>\n",
       "    <tr>\n",
       "      <td>0</td>\n",
       "      <td>OS_9_27_2017_08_09_00__0002.wav</td>\n",
       "      <td>10.378472</td>\n",
       "      <td>1.446181</td>\n",
       "      <td>orcasound_lab</td>\n",
       "      <td>2017-09-27</td>\n",
       "      <td>Orcasound_PodCast_Round3</td>\n",
       "      <td>OS_9_27_2017_08_09</td>\n",
       "      <td>10.0</td>\n",
       "      <td>12.0</td>\n",
       "      <td>[10.0, 12.0]</td>\n",
       "    </tr>\n",
       "    <tr>\n",
       "      <td>1</td>\n",
       "      <td>OS_9_27_2017_08_09_00__0002.wav</td>\n",
       "      <td>18.204861</td>\n",
       "      <td>1.063368</td>\n",
       "      <td>orcasound_lab</td>\n",
       "      <td>2017-09-27</td>\n",
       "      <td>Orcasound_PodCast_Round3</td>\n",
       "      <td>OS_9_27_2017_08_09</td>\n",
       "      <td>18.0</td>\n",
       "      <td>20.0</td>\n",
       "      <td>[18.0, 20.0]</td>\n",
       "    </tr>\n",
       "    <tr>\n",
       "      <td>2</td>\n",
       "      <td>OS_9_27_2017_08_09_00__0002.wav</td>\n",
       "      <td>15.993056</td>\n",
       "      <td>1.190972</td>\n",
       "      <td>orcasound_lab</td>\n",
       "      <td>2017-09-27</td>\n",
       "      <td>Orcasound_PodCast_Round3</td>\n",
       "      <td>OS_9_27_2017_08_09</td>\n",
       "      <td>15.0</td>\n",
       "      <td>18.0</td>\n",
       "      <td>[15.0, 18.0]</td>\n",
       "    </tr>\n",
       "    <tr>\n",
       "      <td>3</td>\n",
       "      <td>OS_9_27_2017_08_09_00__0002.wav</td>\n",
       "      <td>35.686632</td>\n",
       "      <td>1.318576</td>\n",
       "      <td>orcasound_lab</td>\n",
       "      <td>2017-09-27</td>\n",
       "      <td>Orcasound_PodCast_Round3</td>\n",
       "      <td>OS_9_27_2017_08_09</td>\n",
       "      <td>35.0</td>\n",
       "      <td>38.0</td>\n",
       "      <td>[35.0, 38.0]</td>\n",
       "    </tr>\n",
       "    <tr>\n",
       "      <td>4</td>\n",
       "      <td>OS_9_27_2017_08_09_00__0002.wav</td>\n",
       "      <td>56.741319</td>\n",
       "      <td>2.169271</td>\n",
       "      <td>orcasound_lab</td>\n",
       "      <td>2017-09-27</td>\n",
       "      <td>Orcasound_PodCast_Round3</td>\n",
       "      <td>OS_9_27_2017_08_09</td>\n",
       "      <td>56.0</td>\n",
       "      <td>59.0</td>\n",
       "      <td>[56.0, 59.0]</td>\n",
       "    </tr>\n",
       "  </tbody>\n",
       "</table>\n",
       "</div>"
      ],
      "text/plain": [
       "                      wav_filename  start_time_s  duration_s       location  \\\n",
       "0  OS_9_27_2017_08_09_00__0002.wav     10.378472    1.446181  orcasound_lab   \n",
       "1  OS_9_27_2017_08_09_00__0002.wav     18.204861    1.063368  orcasound_lab   \n",
       "2  OS_9_27_2017_08_09_00__0002.wav     15.993056    1.190972  orcasound_lab   \n",
       "3  OS_9_27_2017_08_09_00__0002.wav     35.686632    1.318576  orcasound_lab   \n",
       "4  OS_9_27_2017_08_09_00__0002.wav     56.741319    2.169271  orcasound_lab   \n",
       "\n",
       "         date               data_source      data_source_id  begin_time  \\\n",
       "0  2017-09-27  Orcasound_PodCast_Round3  OS_9_27_2017_08_09        10.0   \n",
       "1  2017-09-27  Orcasound_PodCast_Round3  OS_9_27_2017_08_09        18.0   \n",
       "2  2017-09-27  Orcasound_PodCast_Round3  OS_9_27_2017_08_09        15.0   \n",
       "3  2017-09-27  Orcasound_PodCast_Round3  OS_9_27_2017_08_09        35.0   \n",
       "4  2017-09-27  Orcasound_PodCast_Round3  OS_9_27_2017_08_09        56.0   \n",
       "\n",
       "   end_time    time_frame  \n",
       "0      12.0  [10.0, 12.0]  \n",
       "1      20.0  [18.0, 20.0]  \n",
       "2      18.0  [15.0, 18.0]  \n",
       "3      38.0  [35.0, 38.0]  \n",
       "4      59.0  [56.0, 59.0]  "
      ]
     },
     "execution_count": 20,
     "metadata": {},
     "output_type": "execute_result"
    }
   ],
   "source": [
    "df_ts.head()"
   ]
  },
  {
   "cell_type": "markdown",
   "metadata": {
    "ExecuteTime": {
     "end_time": "2020-07-30T23:21:45.326853Z",
     "start_time": "2020-07-30T23:21:45.297344Z"
    },
    "hidden": true
   },
   "source": [
    "**Creating a dictionary of positive sample time proposals for noise file creation**"
   ]
  },
  {
   "cell_type": "code",
   "execution_count": 21,
   "metadata": {
    "ExecuteTime": {
     "end_time": "2020-07-29T18:23:25.039491Z",
     "start_time": "2020-07-29T18:23:25.029519Z"
    },
    "hidden": true
   },
   "outputs": [],
   "source": [
    "positive_sample_dict = {}\n",
    "for idx, key in enumerate(df_timeframe.index):\n",
    "    positive_sample_dict[key] = df_timeframe[idx]"
   ]
  },
  {
   "cell_type": "code",
   "execution_count": 22,
   "metadata": {
    "ExecuteTime": {
     "end_time": "2020-07-29T18:23:25.052526Z",
     "start_time": "2020-07-29T18:23:25.043480Z"
    },
    "hidden": true
   },
   "outputs": [
    {
     "data": {
      "text/plain": [
       "440"
      ]
     },
     "execution_count": 22,
     "metadata": {},
     "output_type": "execute_result"
    }
   ],
   "source": [
    "a = 0\n",
    "for key in positive_sample_dict.keys(): a+=len(positive_sample_dict[key])\n",
    "a"
   ]
  },
  {
   "cell_type": "markdown",
   "metadata": {
    "hidden": true
   },
   "source": [
    "**Extracting the positive sample wav files and putting it in the input positive sample data folder for ML modeling**"
   ]
  },
  {
   "cell_type": "code",
   "execution_count": null,
   "metadata": {
    "ExecuteTime": {
     "end_time": "2020-07-29T18:23:39.151314Z",
     "start_time": "2020-07-29T18:23:25.366616Z"
    },
    "hidden": true
   },
   "outputs": [],
   "source": [
    "extract_segments(\n",
    "    './data/train/Round3_OS_09_27_2017/wav/', \n",
    "    positive_sample_dict, \n",
    "    './data/train/mldata/all/positive/',\n",
    "    \"_call\"\n",
    ")"
   ]
  },
  {
   "cell_type": "markdown",
   "metadata": {
    "hidden": true
   },
   "source": [
    "**Creating a dictionary of negative sample time proposals for noise file creation**"
   ]
  },
  {
   "cell_type": "code",
   "execution_count": 23,
   "metadata": {
    "ExecuteTime": {
     "end_time": "2020-07-29T18:23:25.351655Z",
     "start_time": "2020-07-29T18:23:25.056514Z"
    },
    "hidden": true
   },
   "outputs": [],
   "source": [
    "negative_sample_dict = {}\n",
    "for idx in df_timeframe.index:\n",
    "    negative_sample_dict[idx] = not_overlap_list_x_list(\n",
    "        create_possible_timeframe(df_timeframe_max[idx],1), \n",
    "        df_timeframe[idx]\n",
    "    )"
   ]
  },
  {
   "cell_type": "code",
   "execution_count": 24,
   "metadata": {
    "ExecuteTime": {
     "end_time": "2020-07-29T18:23:25.363624Z",
     "start_time": "2020-07-29T18:23:25.354648Z"
    },
    "hidden": true
   },
   "outputs": [
    {
     "data": {
      "text/plain": [
       "700"
      ]
     },
     "execution_count": 24,
     "metadata": {},
     "output_type": "execute_result"
    }
   ],
   "source": [
    "a = 0\n",
    "for key in negative_sample_dict.keys(): a+=len(negative_sample_dict[key])\n",
    "a"
   ]
  },
  {
   "cell_type": "markdown",
   "metadata": {
    "hidden": true
   },
   "source": [
    "**Extracting the negative sample wav files and putting it in the input negative sample data folder for ML modeling**"
   ]
  },
  {
   "cell_type": "code",
   "execution_count": null,
   "metadata": {
    "ExecuteTime": {
     "end_time": "2020-07-29T18:23:52.272981Z",
     "start_time": "2020-07-29T18:23:39.155303Z"
    },
    "hidden": true
   },
   "outputs": [],
   "source": [
    "extract_segments(\n",
    "    './data/train/Round3_OS_09_27_2017/wav/', \n",
    "    negative_sample_dict, \n",
    "    './data/train/mldata/all/negative/',\n",
    "    \"_call\"\n",
    ")"
   ]
  },
  {
   "cell_type": "markdown",
   "metadata": {
    "heading_collapsed": true
   },
   "source": [
    "# Test"
   ]
  },
  {
   "cell_type": "markdown",
   "metadata": {
    "ExecuteTime": {
     "end_time": "2020-07-30T23:38:11.885463Z",
     "start_time": "2020-07-30T23:38:11.870360Z"
    },
    "hidden": true
   },
   "source": [
    "**This part of code is to just generate test for initial evaluation, not for official evaluation**"
   ]
  },
  {
   "cell_type": "markdown",
   "metadata": {
    "heading_collapsed": true,
    "hidden": true
   },
   "source": [
    "## OrcasoundLab07052019_Test"
   ]
  },
  {
   "cell_type": "markdown",
   "metadata": {
    "hidden": true
   },
   "source": [
    "**Reading the metadata from Round 2 testing dataset and creating positive time proposals for audio segmentation**"
   ]
  },
  {
   "cell_type": "code",
   "execution_count": 23,
   "metadata": {
    "ExecuteTime": {
     "end_time": "2020-07-30T23:39:02.915367Z",
     "start_time": "2020-07-30T23:39:02.843499Z"
    },
    "hidden": true
   },
   "outputs": [],
   "source": [
    "df_ts = pd.read_csv('./data/test/OrcasoundLab07052019_Test/test.tsv', sep='\\t')\n",
    "df_ts = df_ts.loc[df_ts.duration_s > 1,:].reset_index(drop=True)\n",
    "df_ts['begin_time'] = np.floor(df_ts['start_time_s'])\n",
    "df_ts['end_time'] = np.ceil(df_ts.start_time_s + df_ts.duration_s)\n",
    "df_ts['time_frame'] = df_ts.apply(lambda row : [row['begin_time'],row['end_time']],axis=1)\n",
    "df_timeframe = df_ts.groupby(['wav_filename'])['time_frame'].apply(list)\n",
    "df_timeframe_max = df_ts.groupby(['wav_filename'])['end_time'].max()"
   ]
  },
  {
   "cell_type": "code",
   "execution_count": 24,
   "metadata": {
    "ExecuteTime": {
     "end_time": "2020-07-30T23:39:05.045005Z",
     "start_time": "2020-07-30T23:39:05.012260Z"
    },
    "hidden": true
   },
   "outputs": [
    {
     "data": {
      "text/html": [
       "<div>\n",
       "<style scoped>\n",
       "    .dataframe tbody tr th:only-of-type {\n",
       "        vertical-align: middle;\n",
       "    }\n",
       "\n",
       "    .dataframe tbody tr th {\n",
       "        vertical-align: top;\n",
       "    }\n",
       "\n",
       "    .dataframe thead th {\n",
       "        text-align: right;\n",
       "    }\n",
       "</style>\n",
       "<table border=\"1\" class=\"dataframe\">\n",
       "  <thead>\n",
       "    <tr style=\"text-align: right;\">\n",
       "      <th></th>\n",
       "      <th>wav_filename</th>\n",
       "      <th>start_time_s</th>\n",
       "      <th>duration_s</th>\n",
       "      <th>location</th>\n",
       "      <th>date</th>\n",
       "      <th>master_wav</th>\n",
       "      <th>tag</th>\n",
       "      <th>begin_time</th>\n",
       "      <th>end_time</th>\n",
       "      <th>time_frame</th>\n",
       "    </tr>\n",
       "  </thead>\n",
       "  <tbody>\n",
       "    <tr>\n",
       "      <td>0</td>\n",
       "      <td>OS_7_05_2019_08_24_00_.wav</td>\n",
       "      <td>52.172</td>\n",
       "      <td>1.118</td>\n",
       "      <td>Orcasound Lab Hydrophone</td>\n",
       "      <td>1562340736</td>\n",
       "      <td>OS_7_05_2019_08_24_00_.wav</td>\n",
       "      <td>call</td>\n",
       "      <td>52.0</td>\n",
       "      <td>54.0</td>\n",
       "      <td>[52.0, 54.0]</td>\n",
       "    </tr>\n",
       "    <tr>\n",
       "      <td>1</td>\n",
       "      <td>OS_7_05_2019_08_24_00_.wav</td>\n",
       "      <td>54.877</td>\n",
       "      <td>1.104</td>\n",
       "      <td>Orcasound Lab Hydrophone</td>\n",
       "      <td>1562340736</td>\n",
       "      <td>OS_7_05_2019_08_24_00_.wav</td>\n",
       "      <td>call</td>\n",
       "      <td>54.0</td>\n",
       "      <td>56.0</td>\n",
       "      <td>[54.0, 56.0]</td>\n",
       "    </tr>\n",
       "    <tr>\n",
       "      <td>2</td>\n",
       "      <td>OS_7_05_2019_08_24_00_.wav</td>\n",
       "      <td>69.701</td>\n",
       "      <td>2.691</td>\n",
       "      <td>Orcasound Lab Hydrophone</td>\n",
       "      <td>1562340736</td>\n",
       "      <td>OS_7_05_2019_08_24_00_.wav</td>\n",
       "      <td>?</td>\n",
       "      <td>69.0</td>\n",
       "      <td>73.0</td>\n",
       "      <td>[69.0, 73.0]</td>\n",
       "    </tr>\n",
       "    <tr>\n",
       "      <td>3</td>\n",
       "      <td>OS_7_05_2019_08_24_00_.wav</td>\n",
       "      <td>75.111</td>\n",
       "      <td>1.367</td>\n",
       "      <td>Orcasound Lab Hydrophone</td>\n",
       "      <td>1562340736</td>\n",
       "      <td>OS_7_05_2019_08_24_00_.wav</td>\n",
       "      <td>?</td>\n",
       "      <td>75.0</td>\n",
       "      <td>77.0</td>\n",
       "      <td>[75.0, 77.0]</td>\n",
       "    </tr>\n",
       "    <tr>\n",
       "      <td>4</td>\n",
       "      <td>OS_7_05_2019_08_24_00_.wav</td>\n",
       "      <td>78.934</td>\n",
       "      <td>1.810</td>\n",
       "      <td>Orcasound Lab Hydrophone</td>\n",
       "      <td>1562340736</td>\n",
       "      <td>OS_7_05_2019_08_24_00_.wav</td>\n",
       "      <td>ca ll</td>\n",
       "      <td>78.0</td>\n",
       "      <td>81.0</td>\n",
       "      <td>[78.0, 81.0]</td>\n",
       "    </tr>\n",
       "  </tbody>\n",
       "</table>\n",
       "</div>"
      ],
      "text/plain": [
       "                 wav_filename  start_time_s  duration_s  \\\n",
       "0  OS_7_05_2019_08_24_00_.wav        52.172       1.118   \n",
       "1  OS_7_05_2019_08_24_00_.wav        54.877       1.104   \n",
       "2  OS_7_05_2019_08_24_00_.wav        69.701       2.691   \n",
       "3  OS_7_05_2019_08_24_00_.wav        75.111       1.367   \n",
       "4  OS_7_05_2019_08_24_00_.wav        78.934       1.810   \n",
       "\n",
       "                   location        date                  master_wav    tag  \\\n",
       "0  Orcasound Lab Hydrophone  1562340736  OS_7_05_2019_08_24_00_.wav   call   \n",
       "1  Orcasound Lab Hydrophone  1562340736  OS_7_05_2019_08_24_00_.wav   call   \n",
       "2  Orcasound Lab Hydrophone  1562340736  OS_7_05_2019_08_24_00_.wav      ?   \n",
       "3  Orcasound Lab Hydrophone  1562340736  OS_7_05_2019_08_24_00_.wav      ?   \n",
       "4  Orcasound Lab Hydrophone  1562340736  OS_7_05_2019_08_24_00_.wav  ca ll   \n",
       "\n",
       "   begin_time  end_time    time_frame  \n",
       "0        52.0      54.0  [52.0, 54.0]  \n",
       "1        54.0      56.0  [54.0, 56.0]  \n",
       "2        69.0      73.0  [69.0, 73.0]  \n",
       "3        75.0      77.0  [75.0, 77.0]  \n",
       "4        78.0      81.0  [78.0, 81.0]  "
      ]
     },
     "execution_count": 24,
     "metadata": {},
     "output_type": "execute_result"
    }
   ],
   "source": [
    "df_ts.head()"
   ]
  },
  {
   "cell_type": "markdown",
   "metadata": {
    "ExecuteTime": {
     "end_time": "2020-07-30T23:21:45.326853Z",
     "start_time": "2020-07-30T23:21:45.297344Z"
    },
    "hidden": true
   },
   "source": [
    "**Creating a dictionary of positive sample time proposals for noise file creation**"
   ]
  },
  {
   "cell_type": "code",
   "execution_count": 25,
   "metadata": {
    "ExecuteTime": {
     "end_time": "2020-07-30T23:39:06.384897Z",
     "start_time": "2020-07-30T23:39:06.376919Z"
    },
    "hidden": true
   },
   "outputs": [],
   "source": [
    "positive_sample_dict = {}\n",
    "for idx, key in enumerate(df_timeframe.index):\n",
    "    positive_sample_dict[key] = df_timeframe[idx]"
   ]
  },
  {
   "cell_type": "code",
   "execution_count": 26,
   "metadata": {
    "ExecuteTime": {
     "end_time": "2020-07-30T23:39:07.236297Z",
     "start_time": "2020-07-30T23:39:07.225798Z"
    },
    "hidden": true
   },
   "outputs": [
    {
     "data": {
      "text/plain": [
       "390"
      ]
     },
     "execution_count": 26,
     "metadata": {},
     "output_type": "execute_result"
    }
   ],
   "source": [
    "a = 0\n",
    "for key in positive_sample_dict.keys(): a+=len(positive_sample_dict[key])\n",
    "a"
   ]
  },
  {
   "cell_type": "markdown",
   "metadata": {
    "hidden": true
   },
   "source": [
    "**Extracting the positive sample wav files and putting it in the input positive sample data folder for ML modeling**"
   ]
  },
  {
   "cell_type": "code",
   "execution_count": null,
   "metadata": {
    "ExecuteTime": {
     "end_time": "2020-07-29T21:26:01.175323Z",
     "start_time": "2020-07-29T21:25:56.547176Z"
    },
    "hidden": true
   },
   "outputs": [],
   "source": [
    "extract_segments(\n",
    "    './data/test/OrcasoundLab07052019_Test/wav/', \n",
    "    positive_sample_dict, \n",
    "    './data/test/all/positive/',\n",
    "    \"_call\"\n",
    ")"
   ]
  },
  {
   "cell_type": "markdown",
   "metadata": {
    "hidden": true
   },
   "source": [
    "**Creating a dictionary of negative sample time proposals for noise file creation**"
   ]
  },
  {
   "cell_type": "code",
   "execution_count": 33,
   "metadata": {
    "ExecuteTime": {
     "end_time": "2020-07-29T21:25:23.752443Z",
     "start_time": "2020-07-29T21:25:18.656718Z"
    },
    "hidden": true
   },
   "outputs": [],
   "source": [
    "negative_sample_dict = {}\n",
    "for idx in df_timeframe.index:\n",
    "    negative_sample_dict[idx] = not_overlap_list_x_list(\n",
    "        create_possible_timeframe(df_timeframe_max[idx],1), \n",
    "        df_timeframe[idx]\n",
    "    )"
   ]
  },
  {
   "cell_type": "code",
   "execution_count": 34,
   "metadata": {
    "ExecuteTime": {
     "end_time": "2020-07-29T21:25:23.760421Z",
     "start_time": "2020-07-29T21:25:23.755435Z"
    },
    "hidden": true
   },
   "outputs": [
    {
     "data": {
      "text/plain": [
       "532"
      ]
     },
     "execution_count": 34,
     "metadata": {},
     "output_type": "execute_result"
    }
   ],
   "source": [
    "a = 0\n",
    "for key in negative_sample_dict.keys(): a+=len(negative_sample_dict[key])\n",
    "a"
   ]
  },
  {
   "cell_type": "markdown",
   "metadata": {
    "hidden": true
   },
   "source": [
    "**Extracting the negative sample wav files and putting it in the input negative sample data folder for ML modeling**"
   ]
  },
  {
   "cell_type": "code",
   "execution_count": null,
   "metadata": {
    "ExecuteTime": {
     "end_time": "2020-07-29T21:26:50.143625Z",
     "start_time": "2020-07-29T21:26:45.659515Z"
    },
    "hidden": true
   },
   "outputs": [],
   "source": [
    "extract_segments(\n",
    "    './data/test/OrcasoundLab07052019_Test/wav/', \n",
    "    negative_sample_dict, \n",
    "    './data/test/all/negative/',\n",
    "    \"_call\"\n",
    ")"
   ]
  },
  {
   "cell_type": "markdown",
   "metadata": {
    "heading_collapsed": true,
    "hidden": true
   },
   "source": [
    "## OrcasoundLab09272017_Test"
   ]
  },
  {
   "cell_type": "markdown",
   "metadata": {
    "hidden": true
   },
   "source": [
    "**Reading the metadata from Round 3 testing dataset and creating positive time proposals for audio segmentation**"
   ]
  },
  {
   "cell_type": "code",
   "execution_count": 27,
   "metadata": {
    "ExecuteTime": {
     "end_time": "2020-07-30T23:43:49.865399Z",
     "start_time": "2020-07-30T23:43:49.802318Z"
    },
    "hidden": true
   },
   "outputs": [],
   "source": [
    "df_ts = pd.read_csv('./data/test/OrcasoundLab09272017_Test/test.tsv', sep='\\t')\n",
    "df_ts = df_ts.loc[df_ts.duration_s > 1,:].reset_index(drop=True)\n",
    "df_ts['begin_time'] = np.floor(df_ts['start_time_s'])\n",
    "df_ts['end_time'] = np.ceil(df_ts.start_time_s + df_ts.duration_s)\n",
    "df_ts['time_frame'] = df_ts.apply(lambda row : [row['begin_time'],row['end_time']],axis=1)\n",
    "df_timeframe = df_ts.groupby(['wav_filename'])['time_frame'].apply(list)\n",
    "df_timeframe_max = df_ts.groupby(['wav_filename'])['end_time'].max()"
   ]
  },
  {
   "cell_type": "code",
   "execution_count": 40,
   "metadata": {
    "ExecuteTime": {
     "end_time": "2020-07-29T21:27:43.064807Z",
     "start_time": "2020-07-29T21:27:43.032959Z"
    },
    "hidden": true
   },
   "outputs": [
    {
     "data": {
      "text/html": [
       "<div>\n",
       "<style scoped>\n",
       "    .dataframe tbody tr th:only-of-type {\n",
       "        vertical-align: middle;\n",
       "    }\n",
       "\n",
       "    .dataframe tbody tr th {\n",
       "        vertical-align: top;\n",
       "    }\n",
       "\n",
       "    .dataframe thead th {\n",
       "        text-align: right;\n",
       "    }\n",
       "</style>\n",
       "<table border=\"1\" class=\"dataframe\">\n",
       "  <thead>\n",
       "    <tr style=\"text-align: right;\">\n",
       "      <th></th>\n",
       "      <th>wav_filename</th>\n",
       "      <th>start_time_s</th>\n",
       "      <th>duration_s</th>\n",
       "      <th>location</th>\n",
       "      <th>date</th>\n",
       "      <th>data_source</th>\n",
       "      <th>data_source_id</th>\n",
       "      <th>begin_time</th>\n",
       "      <th>end_time</th>\n",
       "      <th>time_frame</th>\n",
       "    </tr>\n",
       "  </thead>\n",
       "  <tbody>\n",
       "    <tr>\n",
       "      <td>0</td>\n",
       "      <td>OS_9_27_2017_08_14_00__0001.wav</td>\n",
       "      <td>11.643564</td>\n",
       "      <td>2.450000</td>\n",
       "      <td>orcasound_lab</td>\n",
       "      <td>9/27/2017</td>\n",
       "      <td>Orcasound_PodCast_Round3</td>\n",
       "      <td>OS_9_27_2017_08_14</td>\n",
       "      <td>11.0</td>\n",
       "      <td>15.0</td>\n",
       "      <td>[11.0, 15.0]</td>\n",
       "    </tr>\n",
       "    <tr>\n",
       "      <td>1</td>\n",
       "      <td>OS_9_27_2017_08_14_00__0001.wav</td>\n",
       "      <td>15.594059</td>\n",
       "      <td>2.165842</td>\n",
       "      <td>orcasound_lab</td>\n",
       "      <td>9/27/2017</td>\n",
       "      <td>Orcasound_PodCast_Round3</td>\n",
       "      <td>OS_9_27_2017_08_14</td>\n",
       "      <td>15.0</td>\n",
       "      <td>18.0</td>\n",
       "      <td>[15.0, 18.0]</td>\n",
       "    </tr>\n",
       "    <tr>\n",
       "      <td>2</td>\n",
       "      <td>OS_9_27_2017_08_14_00__0001.wav</td>\n",
       "      <td>53.900000</td>\n",
       "      <td>2.450000</td>\n",
       "      <td>orcasound_lab</td>\n",
       "      <td>9/27/2017</td>\n",
       "      <td>Orcasound_PodCast_Round3</td>\n",
       "      <td>OS_9_27_2017_08_14</td>\n",
       "      <td>53.0</td>\n",
       "      <td>57.0</td>\n",
       "      <td>[53.0, 57.0]</td>\n",
       "    </tr>\n",
       "    <tr>\n",
       "      <td>3</td>\n",
       "      <td>OS_9_27_2017_08_14_00__0001.wav</td>\n",
       "      <td>59.781486</td>\n",
       "      <td>1.468514</td>\n",
       "      <td>orcasound_lab</td>\n",
       "      <td>9/27/2017</td>\n",
       "      <td>Orcasound_PodCast_Round3</td>\n",
       "      <td>OS_9_27_2017_08_14</td>\n",
       "      <td>59.0</td>\n",
       "      <td>62.0</td>\n",
       "      <td>[59.0, 62.0]</td>\n",
       "    </tr>\n",
       "    <tr>\n",
       "      <td>4</td>\n",
       "      <td>OS_9_27_2017_08_19_00__0002.wav</td>\n",
       "      <td>6.592882</td>\n",
       "      <td>1.233507</td>\n",
       "      <td>orcasound_lab</td>\n",
       "      <td>9/27/2017</td>\n",
       "      <td>Orcasound_PodCast_Round3</td>\n",
       "      <td>OS_9_27_2017_08_19</td>\n",
       "      <td>6.0</td>\n",
       "      <td>8.0</td>\n",
       "      <td>[6.0, 8.0]</td>\n",
       "    </tr>\n",
       "  </tbody>\n",
       "</table>\n",
       "</div>"
      ],
      "text/plain": [
       "                      wav_filename  start_time_s  duration_s       location  \\\n",
       "0  OS_9_27_2017_08_14_00__0001.wav     11.643564    2.450000  orcasound_lab   \n",
       "1  OS_9_27_2017_08_14_00__0001.wav     15.594059    2.165842  orcasound_lab   \n",
       "2  OS_9_27_2017_08_14_00__0001.wav     53.900000    2.450000  orcasound_lab   \n",
       "3  OS_9_27_2017_08_14_00__0001.wav     59.781486    1.468514  orcasound_lab   \n",
       "4  OS_9_27_2017_08_19_00__0002.wav      6.592882    1.233507  orcasound_lab   \n",
       "\n",
       "        date               data_source      data_source_id  begin_time  \\\n",
       "0  9/27/2017  Orcasound_PodCast_Round3  OS_9_27_2017_08_14        11.0   \n",
       "1  9/27/2017  Orcasound_PodCast_Round3  OS_9_27_2017_08_14        15.0   \n",
       "2  9/27/2017  Orcasound_PodCast_Round3  OS_9_27_2017_08_14        53.0   \n",
       "3  9/27/2017  Orcasound_PodCast_Round3  OS_9_27_2017_08_14        59.0   \n",
       "4  9/27/2017  Orcasound_PodCast_Round3  OS_9_27_2017_08_19         6.0   \n",
       "\n",
       "   end_time    time_frame  \n",
       "0      15.0  [11.0, 15.0]  \n",
       "1      18.0  [15.0, 18.0]  \n",
       "2      57.0  [53.0, 57.0]  \n",
       "3      62.0  [59.0, 62.0]  \n",
       "4       8.0    [6.0, 8.0]  "
      ]
     },
     "execution_count": 40,
     "metadata": {},
     "output_type": "execute_result"
    }
   ],
   "source": [
    "df_ts.head()"
   ]
  },
  {
   "cell_type": "markdown",
   "metadata": {
    "ExecuteTime": {
     "end_time": "2020-07-30T23:21:45.326853Z",
     "start_time": "2020-07-30T23:21:45.297344Z"
    },
    "hidden": true
   },
   "source": [
    "**Creating a dictionary of positive sample time proposals for noise file creation**"
   ]
  },
  {
   "cell_type": "code",
   "execution_count": 41,
   "metadata": {
    "ExecuteTime": {
     "end_time": "2020-07-29T21:27:44.511883Z",
     "start_time": "2020-07-29T21:27:44.504427Z"
    },
    "hidden": true
   },
   "outputs": [],
   "source": [
    "positive_sample_dict = {}\n",
    "for idx, key in enumerate(df_timeframe.index):\n",
    "    positive_sample_dict[key] = df_timeframe[idx]"
   ]
  },
  {
   "cell_type": "code",
   "execution_count": 42,
   "metadata": {
    "ExecuteTime": {
     "end_time": "2020-07-29T21:27:45.314325Z",
     "start_time": "2020-07-29T21:27:45.305414Z"
    },
    "hidden": true
   },
   "outputs": [
    {
     "data": {
      "text/plain": [
       "97"
      ]
     },
     "execution_count": 42,
     "metadata": {},
     "output_type": "execute_result"
    }
   ],
   "source": [
    "a = 0\n",
    "for key in positive_sample_dict.keys(): a+=len(positive_sample_dict[key])\n",
    "a"
   ]
  },
  {
   "cell_type": "markdown",
   "metadata": {
    "hidden": true
   },
   "source": [
    "**Extracting the positive sample wav files and putting it in the input positive sample data folder for ML modeling**"
   ]
  },
  {
   "cell_type": "code",
   "execution_count": null,
   "metadata": {
    "ExecuteTime": {
     "end_time": "2020-07-29T21:27:57.895337Z",
     "start_time": "2020-07-29T21:27:54.587659Z"
    },
    "hidden": true
   },
   "outputs": [],
   "source": [
    "extract_segments(\n",
    "    './data/test/OrcasoundLab09272017_Test/wav/', \n",
    "    positive_sample_dict, \n",
    "    './data/test/all/positive/',\n",
    "    \"_call\"\n",
    ")"
   ]
  },
  {
   "cell_type": "markdown",
   "metadata": {
    "hidden": true
   },
   "source": [
    "**Creating a dictionary of negative sample time proposals for noise file creation**"
   ]
  },
  {
   "cell_type": "code",
   "execution_count": 43,
   "metadata": {
    "ExecuteTime": {
     "end_time": "2020-07-29T21:27:46.785756Z",
     "start_time": "2020-07-29T21:27:46.689017Z"
    },
    "hidden": true
   },
   "outputs": [],
   "source": [
    "negative_sample_dict = {}\n",
    "for idx in df_timeframe.index:\n",
    "    negative_sample_dict[idx] = not_overlap_list_x_list(\n",
    "        create_possible_timeframe(df_timeframe_max[idx],1), \n",
    "        df_timeframe[idx]\n",
    "    )"
   ]
  },
  {
   "cell_type": "code",
   "execution_count": 44,
   "metadata": {
    "ExecuteTime": {
     "end_time": "2020-07-29T21:27:47.578122Z",
     "start_time": "2020-07-29T21:27:47.568078Z"
    },
    "hidden": true
   },
   "outputs": [
    {
     "data": {
      "text/plain": [
       "201"
      ]
     },
     "execution_count": 44,
     "metadata": {},
     "output_type": "execute_result"
    }
   ],
   "source": [
    "a = 0\n",
    "for key in negative_sample_dict.keys(): a+=len(negative_sample_dict[key])\n",
    "a"
   ]
  },
  {
   "cell_type": "markdown",
   "metadata": {
    "hidden": true
   },
   "source": [
    "**Extracting the negative sample wav files and putting it in the input negative sample data folder for ML modeling**"
   ]
  },
  {
   "cell_type": "code",
   "execution_count": null,
   "metadata": {
    "ExecuteTime": {
     "end_time": "2020-07-29T21:28:01.064925Z",
     "start_time": "2020-07-29T21:27:57.899327Z"
    },
    "hidden": true
   },
   "outputs": [],
   "source": [
    "extract_segments(\n",
    "    './data/test/OrcasoundLab09272017_Test/wav/', \n",
    "    negative_sample_dict, \n",
    "    './data/test/all/negative/',\n",
    "    \"_call\"\n",
    ")"
   ]
  },
  {
   "cell_type": "markdown",
   "metadata": {},
   "source": [
    "# Generating wav for scoring"
   ]
  },
  {
   "cell_type": "markdown",
   "metadata": {},
   "source": [
    "**This part of code is to just 2 sec clips from our testing file for final scoring for official evaluation**"
   ]
  },
  {
   "cell_type": "markdown",
   "metadata": {
    "ExecuteTime": {
     "end_time": "2020-07-30T15:32:51.067480Z",
     "start_time": "2020-07-30T15:32:51.062493Z"
    },
    "heading_collapsed": true
   },
   "source": [
    "## OrcasoundLab07052019_Test"
   ]
  },
  {
   "cell_type": "code",
   "execution_count": 29,
   "metadata": {
    "ExecuteTime": {
     "end_time": "2020-07-30T23:49:03.066676Z",
     "start_time": "2020-07-30T23:49:02.630322Z"
    },
    "hidden": true
   },
   "outputs": [],
   "source": [
    "## Finding the maximum duration of the test wav file\n",
    "max_length = librosa.get_duration(filename=\"./data/test/OrcasoundLab07052019_Test/wav/OS_7_05_2019_08_24_00_.wav\")"
   ]
  },
  {
   "cell_type": "code",
   "execution_count": 30,
   "metadata": {
    "ExecuteTime": {
     "end_time": "2020-07-30T23:49:03.798870Z",
     "start_time": "2020-07-30T23:49:03.790960Z"
    },
    "hidden": true
   },
   "outputs": [],
   "source": [
    "## Generating 2 sec proposal with 1 sec hop length\n",
    "twoSecList = []\n",
    "for i in range(int(np.floor(max_length)-1)):\n",
    "    twoSecList.append([i, i+2])"
   ]
  },
  {
   "cell_type": "code",
   "execution_count": 31,
   "metadata": {
    "ExecuteTime": {
     "end_time": "2020-07-30T23:49:05.003856Z",
     "start_time": "2020-07-30T23:49:04.996944Z"
    },
    "hidden": true
   },
   "outputs": [],
   "source": [
    "# Creating a proposal dictionary\n",
    "two_sec_dict = {}\n",
    "two_sec_dict['OS_7_05_2019_08_24_00_.wav'] = twoSecList"
   ]
  },
  {
   "cell_type": "markdown",
   "metadata": {
    "ExecuteTime": {
     "end_time": "2020-07-30T23:48:53.283048Z",
     "start_time": "2020-07-30T23:48:53.274472Z"
    },
    "hidden": true
   },
   "source": [
    "**Extrating 2 sec samples from test file for official evaluation**"
   ]
  },
  {
   "cell_type": "code",
   "execution_count": null,
   "metadata": {
    "ExecuteTime": {
     "end_time": "2020-07-30T15:48:53.314096Z",
     "start_time": "2020-07-30T15:48:47.764017Z"
    },
    "hidden": true
   },
   "outputs": [],
   "source": [
    "extract_segments(\n",
    "    './data/test/OrcasoundLab07052019_Test/wav/', \n",
    "    two_sec_dict, \n",
    "    './data/test/OrcasoundLab07052019_Test/test2Sec/',\n",
    "    \"\"\n",
    ")"
   ]
  }
 ],
 "metadata": {
  "kernelspec": {
   "display_name": "Python 3",
   "language": "python",
   "name": "python3"
  },
  "language_info": {
   "codemirror_mode": {
    "name": "ipython",
    "version": 3
   },
   "file_extension": ".py",
   "mimetype": "text/x-python",
   "name": "python",
   "nbconvert_exporter": "python",
   "pygments_lexer": "ipython3",
   "version": "3.7.3"
  },
  "toc": {
   "base_numbering": 1,
   "nav_menu": {},
   "number_sections": true,
   "sideBar": true,
   "skip_h1_title": false,
   "title_cell": "Table of Contents",
   "title_sidebar": "Contents",
   "toc_cell": false,
   "toc_position": {},
   "toc_section_display": true,
   "toc_window_display": false
  }
 },
 "nbformat": 4,
 "nbformat_minor": 2
}
